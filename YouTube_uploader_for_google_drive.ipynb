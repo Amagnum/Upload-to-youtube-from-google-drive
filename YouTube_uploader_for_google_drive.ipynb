{
  "cells": [
    {
      "cell_type": "markdown",
      "metadata": {},
      "source": [
        "<a href=https://colab.research.google.com/github/Amagnum/google-drive-to-youtube-video/blob/master/YouTube_uploader_for_google_drive.ipynb target=\"_parent\"><img src=\"https://colab.research.google.com/assets/colab-badge.svg\" alt=\"Open In Colab\"/></a>"
      ]
    },
    {
      "cell_type": "markdown",
      "metadata": {
        "id": "PS5FtoRHIa-y"
      },
      "source": [
        "#Upload to youtube from Google Drive\n",
        "\n",
        "\n",
        "1.   Now no need to download video from drive and then upload to youtube.\n",
        "2.   Super fast upload speed (200MBs in 2 sec)\n",
        "3.   Without using any Internet data (It only uses colab's online servers)\n",
        "\n",
        "\n",
        "\n"
      ]
    },
    {
      "cell_type": "markdown",
      "metadata": {},
      "source": [
        "Install dependencies of Python 2.7 for colab"
      ]
    },
    {
      "cell_type": "code",
      "execution_count": null,
      "metadata": {
        "colab": {
          "base_uri": "https://localhost:8080/",
          "height": 1000
        },
        "id": "raTsvxqi9x64",
        "outputId": "78ed844e-41bb-4dbc-e93b-e29dc5aea362"
      },
      "outputs": [],
      "source": [
        "!sudo apt-get install python2.7 &> /dev/null\n",
        "!curl https://bootstrap.pypa.io/pip/2.7/get-pip.py -o get-pip.py &> /dev/null\n",
        "!python2.7 get-pip.py &> /dev/null\n",
        "!pip2 install httplib2 apiclient google-api-python-client oauth2client &> /dev/null"
      ]
    },
    {
      "cell_type": "markdown",
      "metadata": {
        "id": "MKPOUkea_VRk"
      },
      "source": [
        "Connect your google drive (Run the code below)"
      ]
    },
    {
      "cell_type": "code",
      "execution_count": null,
      "metadata": {
        "colab": {
          "base_uri": "https://localhost:8080/"
        },
        "id": "Yh7bST1-TbrW",
        "outputId": "42a9fb3d-d2c5-4160-d35b-e23596f6432f"
      },
      "outputs": [],
      "source": [
        "from google.colab import drive\n",
        "drive.mount('/content/drive')"
      ]
    },
    {
      "cell_type": "markdown",
      "metadata": {
        "id": "ivnfcxIB_dre"
      },
      "source": [
        "Set ClientID, Client Secret and Project_ID\n",
        "\n",
        "How to get?\n",
        "1. Navigate to https://console.developers.google.com/\n",
        "2. Create a google cloud project (if not already created)\n",
        "3. Goto **\"APIs and Services\"** then **\"credintials\"**\n",
        "4. Create new Credientials. Select **\"OAuth 2.0 client\"** select type as **\"Desktop app\"**\n",
        "5. After successfully creating, copy the **ClientID** and **Client Secret** into the variables declared below.\n",
        "6. Activate the **YouTube Data API v3** from **\"APIs and Services\"**.\n",
        "\n",
        "\n"
      ]
    },
    {
      "cell_type": "markdown",
      "metadata": {},
      "source": [
        "*Note: Due to YouTube's API quota limits, you can only upload 6 videos per day per client. If you exceed this limit, you may need to wait until the next day to upload more videos. Or create more projects and add their clientID and clientSecret in the following code.*\n",
        "\n",
        "Every time you run the code, you will get a new link to authorize your google account. Copy the link and paste it in the box below. Then copy the code and paste it in the box below the link. Then press enter.\n",
        "\n",
        "**To change another clientID and clientSecret, you need to change `id_idx` below and restart and clear the runtime. Then run the code again.**"
      ]
    },
    {
      "cell_type": "code",
      "execution_count": 3,
      "metadata": {
        "id": "lUk0R6V1Ydt7"
      },
      "outputs": [],
      "source": [
        "clientIds = [\"345980893795-qsde_this_is_dummy\"]\n",
        "clientSecrets = [\"GOCSPX-_this_is_dummy\"]\n",
        "projectId = \"_this_is_dummy\""
      ]
    },
    {
      "cell_type": "code",
      "execution_count": null,
      "metadata": {},
      "outputs": [],
      "source": [
        "id_idx = 0\n",
        "\n",
        "clientId = clientIds[id_idx]\n",
        "clientSecret = clientSecrets[id_idx]"
      ]
    },
    {
      "cell_type": "markdown",
      "metadata": {
        "id": "J0oAxYk2Cbzc"
      },
      "source": [
        "Make sure you have a folder named **\"YT_Upload\"** in google drive home directory.\n",
        "\n",
        "And you have the file to upload to youtube in that directory."
      ]
    },
    {
      "cell_type": "code",
      "execution_count": 4,
      "metadata": {
        "id": "r2Hhxur__p_6"
      },
      "outputs": [],
      "source": [
        "import glob"
      ]
    },
    {
      "cell_type": "code",
      "execution_count": 5,
      "metadata": {
        "id": "CSxlN9tT_znY"
      },
      "outputs": [],
      "source": [
        "fns = glob.glob(\"/content/drive/MyDrive/'PATH'/*.mp4\")\n",
        "print(f\"There are {len(fns)} videos.\")"
      ]
    },
    {
      "cell_type": "code",
      "execution_count": 6,
      "metadata": {
        "id": "zCRQKMV7N-xh"
      },
      "outputs": [],
      "source": [
        "# Set YT video description below\n",
        "descText = \"Description\"\n",
        "\n",
        "# Set YT video kewords below\n",
        "keywords = \"Keywords\""
      ]
    },
    {
      "cell_type": "markdown",
      "metadata": {
        "id": "wUiOOiA7Gpd4"
      },
      "source": [
        "# Run the all the remaining code\n",
        "Do not change anything after this"
      ]
    },
    {
      "cell_type": "code",
      "execution_count": null,
      "metadata": {
        "colab": {
          "base_uri": "https://localhost:8080/"
        },
        "id": "i_SZtnizaZbL",
        "outputId": "1fdc5209-9df2-4859-9a17-4b37232d2041"
      },
      "outputs": [],
      "source": [
        "!git clone https://github.com/Amagnum/google-drive-to-youtube-video"
      ]
    },
    {
      "cell_type": "code",
      "execution_count": null,
      "metadata": {
        "colab": {
          "base_uri": "https://localhost:8080/"
        },
        "id": "bsqjxLHzG3Km",
        "outputId": "8f793bc0-f16c-4f4b-eeb5-13818f188cbd"
      },
      "outputs": [],
      "source": [
        "cd \"google-drive-to-youtube-video\""
      ]
    },
    {
      "cell_type": "code",
      "execution_count": 9,
      "metadata": {
        "id": "V1yF6l00GWRC"
      },
      "outputs": [],
      "source": [
        "import sys\n",
        "\n",
        "fileText = f\"\"\"{{\n",
        "  \"web\": {{\n",
        "    \"client_id\": \"{clientId}\",\n",
        "    \"client_secret\": \"{clientSecret}\",\n",
        "    \"project_id\": \"{projectId}\",\n",
        "    \"auth_provider_x509_cert_url\":\"https://www.googleapis.com/oauth2/v1/certs\",\n",
        "    \"redirect_uris\": [],\n",
        "    \"auth_uri\": \"https://accounts.google.com/o/oauth2/auth\",\n",
        "    \"token_uri\": \"https://accounts.google.com/o/oauth2/token\"\n",
        "  }}\n",
        "}}\"\"\"\n",
        "\n",
        "file = open(\"client_secrets.json\", \"w\")\n",
        "file.write(fileText)\n",
        "file.close()"
      ]
    },
    {
      "cell_type": "markdown",
      "metadata": {
        "id": "HdxsLK38DvhC"
      },
      "source": [
        "For more settings and customization parameters check:\n",
        "\n",
        "https://developers.google.com/youtube/v3/guides/uploading_a_video"
      ]
    },
    {
      "cell_type": "code",
      "execution_count": 10,
      "metadata": {
        "id": "r_V-0q-4HZEK"
      },
      "outputs": [],
      "source": [
        "# Skip index will help you to skip already uploaded videos when it exceeds the limit of 6 videos per day\n",
        "skip_idx = 0"
      ]
    },
    {
      "cell_type": "code",
      "execution_count": null,
      "metadata": {
        "colab": {
          "base_uri": "https://localhost:8080/"
        },
        "id": "X9b1usIaZiZP",
        "outputId": "0420e017-e792-4d87-8ba4-e875c53f72be"
      },
      "outputs": [],
      "source": [
        "batch_num = 6\n",
        "upload_idx = 0\n",
        "for idx, fn in enumerate(fns):\n",
        "  if idx < skip_idx:\n",
        "    continue\n",
        "  if upload_idx >= batch_num:\n",
        "    break\n",
        "  title = fn.split(\"/content/drive/MyDrive/'PATH'/\")[1]\n",
        "  !python2.7 upload_video.py --file=\"$fn\" --title=\"$title\" --description=\"$descText\" --keywords=\"$keywords\" --category=\"22\" --privacyStatus=\"private\" --noauth_local_webserver\n",
        "  upload_idx += 1\n",
        "  print(f\"Uploaded {idx+1}/{len(fns)}\")"
      ]
    },
    {
      "cell_type": "markdown",
      "metadata": {
        "id": "2dPz_HAtHCS7"
      },
      "source": [
        "After Running the above command your video file should be uploaded to your YouTube channel.\n",
        "\n",
        "if any problem please raise an issue on github\n",
        "\n",
        "# THANK YOU"
      ]
    }
  ],
  "metadata": {
    "colab": {
      "provenance": []
    },
    "kernelspec": {
      "display_name": "Python 3",
      "name": "python3"
    },
    "language_info": {
      "name": "python"
    }
  },
  "nbformat": 4,
  "nbformat_minor": 0
}
